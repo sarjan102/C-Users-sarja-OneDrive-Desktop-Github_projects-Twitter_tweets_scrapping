{
 "cells": [
  {
   "cell_type": "code",
   "execution_count": 1,
   "id": "a026cf8a",
   "metadata": {},
   "outputs": [],
   "source": [
    "import tweepy"
   ]
  },
  {
   "cell_type": "code",
   "execution_count": 2,
   "id": "9380474c",
   "metadata": {},
   "outputs": [],
   "source": [
    "# Create variable\n",
    "file_name = 'keys.py'"
   ]
  },
  {
   "cell_type": "code",
   "execution_count": 3,
   "id": "498951a8",
   "metadata": {},
   "outputs": [
    {
     "name": "stdout",
     "output_type": "stream",
     "text": [
      "Writing keys.py\n"
     ]
    }
   ],
   "source": [
    "%%writefile {file_name}\n",
    "\n",
    "consumer_key=\"I\"\n",
    "consumer_secret=\"15typj3Kw4UTR6Tee\"\n",
    "access_token=\"MrP\"\n",
    "access_token_secret=\"qVpVDM\"\n",
    "bearer_token=\"e\""
   ]
  },
  {
   "cell_type": "code",
   "execution_count": 4,
   "id": "9331f9f9",
   "metadata": {},
   "outputs": [],
   "source": [
    "from keys import *"
   ]
  },
  {
   "cell_type": "code",
   "execution_count": 5,
   "id": "ef0adc6f",
   "metadata": {},
   "outputs": [],
   "source": [
    "import requests\n",
    "\n",
    "client = tweepy.Client( bearer_token=bearer_token, \n",
    "                        consumer_key=consumer_key, \n",
    "                        consumer_secret=consumer_secret, \n",
    "                        access_token=access_token, \n",
    "                        access_token_secret=access_token_secret, \n",
    "                        return_type = requests.Response,\n",
    "                        wait_on_rate_limit=True)"
   ]
  },
  {
   "cell_type": "code",
   "execution_count": 6,
   "id": "f9f625d0",
   "metadata": {},
   "outputs": [],
   "source": [
    "# Define query\n",
    "#query = 'from:BarackObama -is:retweet'\n",
    "query = 'covid'\n",
    "# get max. 100 tweets\n",
    "tweets = client.search_recent_tweets(query=query, \n",
    "                                    tweet_fields=['author_id', 'created_at'],\n",
    "                                     max_results=10)"
   ]
  },
  {
   "cell_type": "code",
   "execution_count": 7,
   "id": "86722728",
   "metadata": {},
   "outputs": [],
   "source": [
    "import pandas as pd\n",
    "\n",
    "# Save data as dictionary\n",
    "tweets_dict = tweets.json() \n",
    "\n",
    "# Extract \"data\" value from dictionary\n",
    "tweets_data = tweets_dict['data'] \n",
    "\n",
    "# Transform to pandas Dataframe\n",
    "df = pd.json_normalize(tweets_data) "
   ]
  },
  {
   "cell_type": "code",
   "execution_count": 8,
   "id": "79c629a7",
   "metadata": {},
   "outputs": [
    {
     "data": {
      "text/html": [
       "<div>\n",
       "<style scoped>\n",
       "    .dataframe tbody tr th:only-of-type {\n",
       "        vertical-align: middle;\n",
       "    }\n",
       "\n",
       "    .dataframe tbody tr th {\n",
       "        vertical-align: top;\n",
       "    }\n",
       "\n",
       "    .dataframe thead th {\n",
       "        text-align: right;\n",
       "    }\n",
       "</style>\n",
       "<table border=\"1\" class=\"dataframe\">\n",
       "  <thead>\n",
       "    <tr style=\"text-align: right;\">\n",
       "      <th></th>\n",
       "      <th>author_id</th>\n",
       "      <th>text</th>\n",
       "      <th>edit_history_tweet_ids</th>\n",
       "      <th>created_at</th>\n",
       "      <th>id</th>\n",
       "    </tr>\n",
       "  </thead>\n",
       "  <tbody>\n",
       "    <tr>\n",
       "      <th>0</th>\n",
       "      <td>1160250267910066176</td>\n",
       "      <td>RT @se____lene: This might be the best sejeong...</td>\n",
       "      <td>[1621885893190754306]</td>\n",
       "      <td>2023-02-04T14:58:24.000Z</td>\n",
       "      <td>1621885893190754306</td>\n",
       "    </tr>\n",
       "    <tr>\n",
       "      <th>1</th>\n",
       "      <td>56353724</td>\n",
       "      <td>RT @zotam2: Parece que vocês esqueceram que na...</td>\n",
       "      <td>[1621885892448198659]</td>\n",
       "      <td>2023-02-04T14:58:24.000Z</td>\n",
       "      <td>1621885892448198659</td>\n",
       "    </tr>\n",
       "    <tr>\n",
       "      <th>2</th>\n",
       "      <td>3546374433</td>\n",
       "      <td>RT @StellaEscoTV: Dr. Robert Malone addresses ...</td>\n",
       "      <td>[1621885891684728833]</td>\n",
       "      <td>2023-02-04T14:58:24.000Z</td>\n",
       "      <td>1621885891684728833</td>\n",
       "    </tr>\n",
       "    <tr>\n",
       "      <th>3</th>\n",
       "      <td>271183451</td>\n",
       "      <td>RT @manuelrico: Hoy hace 1.053 días que el Gob...</td>\n",
       "      <td>[1621885889583382531]</td>\n",
       "      <td>2023-02-04T14:58:23.000Z</td>\n",
       "      <td>1621885889583382531</td>\n",
       "    </tr>\n",
       "    <tr>\n",
       "      <th>4</th>\n",
       "      <td>1599839534069518342</td>\n",
       "      <td>@WHCOS Could it be from the 1 million deaths f...</td>\n",
       "      <td>[1621885889545650177]</td>\n",
       "      <td>2023-02-04T14:58:23.000Z</td>\n",
       "      <td>1621885889545650177</td>\n",
       "    </tr>\n",
       "    <tr>\n",
       "      <th>5</th>\n",
       "      <td>1448824286853042177</td>\n",
       "      <td>@EWoodhouse7 @81Hawks If you came into the hos...</td>\n",
       "      <td>[1621885887037726720]</td>\n",
       "      <td>2023-02-04T14:58:23.000Z</td>\n",
       "      <td>1621885887037726720</td>\n",
       "    </tr>\n",
       "    <tr>\n",
       "      <th>6</th>\n",
       "      <td>1168610862690721792</td>\n",
       "      <td>RT @l_krishnan: Next up: Malaysia. Part of the...</td>\n",
       "      <td>[1621885885925965826]</td>\n",
       "      <td>2023-02-04T14:58:23.000Z</td>\n",
       "      <td>1621885885925965826</td>\n",
       "    </tr>\n",
       "    <tr>\n",
       "      <th>7</th>\n",
       "      <td>43265919</td>\n",
       "      <td>RT @P_McCulloughMD: Unfortunately, in Californ...</td>\n",
       "      <td>[1621885885229973504]</td>\n",
       "      <td>2023-02-04T14:58:22.000Z</td>\n",
       "      <td>1621885885229973504</td>\n",
       "    </tr>\n",
       "    <tr>\n",
       "      <th>8</th>\n",
       "      <td>1265634868094009347</td>\n",
       "      <td>@Genflag @BallouxFrancois It seems you have yo...</td>\n",
       "      <td>[1621885882310467585]</td>\n",
       "      <td>2023-02-04T14:58:22.000Z</td>\n",
       "      <td>1621885882310467585</td>\n",
       "    </tr>\n",
       "    <tr>\n",
       "      <th>9</th>\n",
       "      <td>1342600383122841600</td>\n",
       "      <td>RT @Un_EtreHumain: 🗣️\"Il y a eu hécatombe null...</td>\n",
       "      <td>[1621885882180538368]</td>\n",
       "      <td>2023-02-04T14:58:22.000Z</td>\n",
       "      <td>1621885882180538368</td>\n",
       "    </tr>\n",
       "  </tbody>\n",
       "</table>\n",
       "</div>"
      ],
      "text/plain": [
       "             author_id                                               text  \\\n",
       "0  1160250267910066176  RT @se____lene: This might be the best sejeong...   \n",
       "1             56353724  RT @zotam2: Parece que vocês esqueceram que na...   \n",
       "2           3546374433  RT @StellaEscoTV: Dr. Robert Malone addresses ...   \n",
       "3            271183451  RT @manuelrico: Hoy hace 1.053 días que el Gob...   \n",
       "4  1599839534069518342  @WHCOS Could it be from the 1 million deaths f...   \n",
       "5  1448824286853042177  @EWoodhouse7 @81Hawks If you came into the hos...   \n",
       "6  1168610862690721792  RT @l_krishnan: Next up: Malaysia. Part of the...   \n",
       "7             43265919  RT @P_McCulloughMD: Unfortunately, in Californ...   \n",
       "8  1265634868094009347  @Genflag @BallouxFrancois It seems you have yo...   \n",
       "9  1342600383122841600  RT @Un_EtreHumain: 🗣️\"Il y a eu hécatombe null...   \n",
       "\n",
       "  edit_history_tweet_ids                created_at                   id  \n",
       "0  [1621885893190754306]  2023-02-04T14:58:24.000Z  1621885893190754306  \n",
       "1  [1621885892448198659]  2023-02-04T14:58:24.000Z  1621885892448198659  \n",
       "2  [1621885891684728833]  2023-02-04T14:58:24.000Z  1621885891684728833  \n",
       "3  [1621885889583382531]  2023-02-04T14:58:23.000Z  1621885889583382531  \n",
       "4  [1621885889545650177]  2023-02-04T14:58:23.000Z  1621885889545650177  \n",
       "5  [1621885887037726720]  2023-02-04T14:58:23.000Z  1621885887037726720  \n",
       "6  [1621885885925965826]  2023-02-04T14:58:23.000Z  1621885885925965826  \n",
       "7  [1621885885229973504]  2023-02-04T14:58:22.000Z  1621885885229973504  \n",
       "8  [1621885882310467585]  2023-02-04T14:58:22.000Z  1621885882310467585  \n",
       "9  [1621885882180538368]  2023-02-04T14:58:22.000Z  1621885882180538368  "
      ]
     },
     "execution_count": 8,
     "metadata": {},
     "output_type": "execute_result"
    }
   ],
   "source": [
    "df"
   ]
  },
  {
   "cell_type": "code",
   "execution_count": 9,
   "id": "c8603373",
   "metadata": {},
   "outputs": [],
   "source": [
    "# save df\n",
    "df.to_csv(\"tweets-obama.csv\")"
   ]
  },
  {
   "cell_type": "code",
   "execution_count": null,
   "id": "f9833a12",
   "metadata": {},
   "outputs": [],
   "source": []
  }
 ],
 "metadata": {
  "kernelspec": {
   "display_name": "Python 3 (ipykernel)",
   "language": "python",
   "name": "python3"
  },
  "language_info": {
   "codemirror_mode": {
    "name": "ipython",
    "version": 3
   },
   "file_extension": ".py",
   "mimetype": "text/x-python",
   "name": "python",
   "nbconvert_exporter": "python",
   "pygments_lexer": "ipython3",
   "version": "3.9.13"
  }
 },
 "nbformat": 4,
 "nbformat_minor": 5
}
